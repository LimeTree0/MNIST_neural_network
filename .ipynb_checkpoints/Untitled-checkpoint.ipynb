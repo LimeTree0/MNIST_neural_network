{
 "cells": [
  {
   "cell_type": "code",
   "execution_count": 1,
   "id": "5b9a210e",
   "metadata": {},
   "outputs": [],
   "source": [
    "import numpy as np"
   ]
  },
  {
   "cell_type": "code",
   "execution_count": 2,
   "id": "d9dbd243",
   "metadata": {},
   "outputs": [],
   "source": [
    "x = np.array([[1.0, -0.5], [-2.0, 3.0]])"
   ]
  },
  {
   "cell_type": "code",
   "execution_count": 3,
   "id": "fa65ea69",
   "metadata": {},
   "outputs": [
    {
     "name": "stdout",
     "output_type": "stream",
     "text": [
      "[[ 1.  -0.5]\n",
      " [-2.   3. ]]\n"
     ]
    }
   ],
   "source": [
    "print(x)"
   ]
  },
  {
   "cell_type": "code",
   "execution_count": 4,
   "id": "dc9aae2f",
   "metadata": {},
   "outputs": [],
   "source": [
    "mask = (x <= 0)"
   ]
  },
  {
   "cell_type": "code",
   "execution_count": 11,
   "id": "ea873b0a",
   "metadata": {},
   "outputs": [
    {
     "data": {
      "text/plain": [
       "array([[False,  True],\n",
       "       [ True, False]])"
      ]
     },
     "execution_count": 11,
     "metadata": {},
     "output_type": "execute_result"
    }
   ],
   "source": [
    "print(mask)"
   ]
  },
  {
   "cell_type": "code",
   "execution_count": 7,
   "id": "f8a50555",
   "metadata": {},
   "outputs": [],
   "source": [
    "out = x.copy()"
   ]
  },
  {
   "cell_type": "code",
   "execution_count": 8,
   "id": "95bdfb7d",
   "metadata": {},
   "outputs": [],
   "source": [
    "out[mask] = 0"
   ]
  },
  {
   "cell_type": "code",
   "execution_count": 9,
   "id": "7db3544a",
   "metadata": {},
   "outputs": [
    {
     "name": "stdout",
     "output_type": "stream",
     "text": [
      "[[1. 0.]\n",
      " [0. 3.]]\n"
     ]
    }
   ],
   "source": [
    "print(out)"
   ]
  },
  {
   "cell_type": "code",
   "execution_count": 14,
   "id": "9a344ab3",
   "metadata": {},
   "outputs": [],
   "source": [
    "a = np.array([1, 2, 3, 4])\n",
    "a[np.array([True, False, True, False])] = -1"
   ]
  },
  {
   "cell_type": "code",
   "execution_count": 15,
   "id": "a5411f8b",
   "metadata": {},
   "outputs": [
    {
     "data": {
      "text/plain": [
       "array([-1,  2, -1,  4])"
      ]
     },
     "execution_count": 15,
     "metadata": {},
     "output_type": "execute_result"
    }
   ],
   "source": [
    "a"
   ]
  },
  {
   "cell_type": "code",
   "execution_count": null,
   "id": "87eae3d2",
   "metadata": {},
   "outputs": [],
   "source": []
  }
 ],
 "metadata": {
  "kernelspec": {
   "display_name": "Python 3 (ipykernel)",
   "language": "python",
   "name": "python3"
  },
  "language_info": {
   "codemirror_mode": {
    "name": "ipython",
    "version": 3
   },
   "file_extension": ".py",
   "mimetype": "text/x-python",
   "name": "python",
   "nbconvert_exporter": "python",
   "pygments_lexer": "ipython3",
   "version": "3.10.9"
  }
 },
 "nbformat": 4,
 "nbformat_minor": 5
}
