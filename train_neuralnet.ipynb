{
 "cells": [
  {
   "cell_type": "code",
   "execution_count": 1,
   "id": "c6a77844",
   "metadata": {
    "scrolled": true
   },
   "outputs": [
    {
     "name": "stdout",
     "output_type": "stream",
     "text": [
      "importing Jupyter notebook from mnist.ipynb\n",
      "importing Jupyter notebook from two_layer_net.ipynb\n",
      "importing Jupyter notebook from layers.ipynb\n",
      "importing Jupyter notebook from functions.ipynb\n",
      "importing Jupyter notebook from util.ipynb\n",
      "importing Jupyter notebook from gradient.ipynb\n"
     ]
    }
   ],
   "source": [
    "# coding: utf-8\n",
    "import numpy as np\n",
    "import matplotlib.pyplot as plt\n",
    "import tensorflow as tf\n",
    "import math\n",
    "import time\n",
    "import seaborn as sns\n",
    "import import_ipynb\n",
    "from mnist import load_mnist\n",
    "from two_layer_net import TwoLayerNet"
   ]
  },
  {
   "cell_type": "code",
   "execution_count": 2,
   "id": "f71a468c",
   "metadata": {},
   "outputs": [],
   "source": [
    "# 데이터 읽기\n",
    "(x_train, t_train), (x_test, t_test) = load_mnist(normalize=True, one_hot_label=True)"
   ]
  },
  {
   "cell_type": "code",
   "execution_count": 3,
   "id": "6d4f6632",
   "metadata": {},
   "outputs": [
    {
     "name": "stdout",
     "output_type": "stream",
     "text": [
      "(60000, 784)\n"
     ]
    }
   ],
   "source": [
    "print(x_train.shape)"
   ]
  },
  {
   "cell_type": "code",
   "execution_count": 4,
   "id": "a27ea901",
   "metadata": {},
   "outputs": [],
   "source": [
    "step = 1\n",
    "data = np.empty([60000, math.ceil(x_train.shape[1] / step)])\n",
    "for i in range(0, x_train.shape[0]):\n",
    "    data[i] = x_train[i][0::step]\n",
    "\n",
    "x_train = data"
   ]
  },
  {
   "cell_type": "code",
   "execution_count": 5,
   "id": "8e897ae7",
   "metadata": {},
   "outputs": [
    {
     "name": "stdout",
     "output_type": "stream",
     "text": [
      "(60000, 784)\n"
     ]
    }
   ],
   "source": [
    "print(x_train.shape)"
   ]
  },
  {
   "cell_type": "code",
   "execution_count": 6,
   "id": "1bc1af7e",
   "metadata": {},
   "outputs": [],
   "source": [
    "data = np.empty([10000, math.ceil(x_test.shape[1] / step)])\n",
    "for i in range(0, x_test.shape[0]):\n",
    "    data[i] = x_test[i][0::step]\n",
    "\n",
    "x_test = data"
   ]
  },
  {
   "cell_type": "code",
   "execution_count": 7,
   "id": "2f331700",
   "metadata": {},
   "outputs": [
    {
     "name": "stdout",
     "output_type": "stream",
     "text": [
      "(10000, 784)\n"
     ]
    }
   ],
   "source": [
    "print(x_test.shape)"
   ]
  },
  {
   "cell_type": "code",
   "execution_count": 8,
   "id": "fb6aca5c",
   "metadata": {},
   "outputs": [],
   "source": [
    "input_size = x_test.shape[1]"
   ]
  },
  {
   "cell_type": "code",
   "execution_count": 9,
   "id": "547e0dbb",
   "metadata": {
    "scrolled": true
   },
   "outputs": [
    {
     "name": "stdout",
     "output_type": "stream",
     "text": [
      "0.13188333333333332 0.1321\n",
      "0.94535 0.9395\n",
      "0.9616833333333333 0.9543\n",
      "0.9661666666666666 0.9555\n",
      "0.9747166666666667 0.9643\n",
      "0.97995 0.9672\n",
      "0.9808833333333333 0.9675\n",
      "0.9850833333333333 0.9684\n",
      "0.9867 0.969\n",
      "0.9890166666666667 0.9732\n",
      "0.9884833333333334 0.9708\n",
      "0.9904666666666667 0.9725\n",
      "0.99205 0.9731\n",
      "0.9948166666666667 0.9732\n",
      "0.9939833333333333 0.9722\n",
      "0.9958833333333333 0.9737\n",
      "0.9974 0.9765\n",
      " 35.84964 sec\n"
     ]
    }
   ],
   "source": [
    "network = TwoLayerNet(input_size=input_size, hidden_size=120, output_size=10)\n",
    "\n",
    "iters_num = 10000\n",
    "train_size = x_train.shape[0]\n",
    "batch_size = 100\n",
    "learning_rate = 0.1\n",
    "\n",
    "train_loss_list = []\n",
    "train_acc_list = []\n",
    "test_acc_list = []\n",
    "\n",
    "\n",
    "iter_per_epoch = max(train_size / batch_size, 1)\n",
    "\n",
    "start = time.time()\n",
    "\n",
    "for i in range(iters_num):\n",
    "    batch_mask = np.random.choice(train_size, batch_size)\n",
    "    x_batch = x_train[batch_mask]\n",
    "    t_batch = t_train[batch_mask]\n",
    "    \n",
    "    # 기울기 계산\n",
    "    #grad = network.numerical_gradient(x_batch, t_batch) # 수치 미분 방식\n",
    "    grad = network.gradient(x_batch, t_batch) # 오차역전파법 방식(훨씬 빠르다)\n",
    "    \n",
    "    # 갱신\n",
    "    for key in ('W1', 'b1','W2', 'b2','W3', 'b3','W4', 'b4'):\n",
    "        network.params[key] -= learning_rate * grad[key]\n",
    "    \n",
    "    \n",
    "    loss = network.loss(x_batch, t_batch)\n",
    "    train_loss_list.append(loss)\n",
    "    \n",
    "    if i % iter_per_epoch == 0:\n",
    "        train_acc = network.accuracy(x_train, t_train)\n",
    "        network\n",
    "        test_acc = network.accuracy(x_test, t_test)\n",
    "        train_acc_list.append(train_acc)\n",
    "        test_acc_list.append(test_acc)\n",
    "        print(train_acc, test_acc)\n",
    "\n",
    "end = time.time();\n",
    "print(f\"{end - start: .5f} sec\")\n",
    "    \n",
    "    "
   ]
  },
  {
   "cell_type": "code",
   "execution_count": 10,
   "id": "77b193f4",
   "metadata": {},
   "outputs": [],
   "source": [
    "# 활성화 함수 분포 확인 0~10까지 존재 batch size = 1, iter_num 1인 상태에서 반드시 grad후에 바로 사용해야 제대로 볼 수 있음\n",
    "# 갱신부분 아래로는 주석처리 하고 끼워 넣을 것\n",
    "# sns.distplot(network.activations[1]) "
   ]
  },
  {
   "cell_type": "code",
   "execution_count": 11,
   "id": "d539acd8",
   "metadata": {},
   "outputs": [],
   "source": [
    "# network.activations[1]"
   ]
  },
  {
   "cell_type": "code",
   "execution_count": 12,
   "id": "22a6b7af",
   "metadata": {},
   "outputs": [],
   "source": [
    "# network.activations[1]"
   ]
  },
  {
   "cell_type": "code",
   "execution_count": 13,
   "id": "9bf9919d",
   "metadata": {
    "scrolled": true
   },
   "outputs": [],
   "source": [
    "# # 갱신\n",
    "#     for key in ('W1', 'b1','W2', 'b2','W3', 'b3','W4', 'b4','W5', 'b5','W6', 'b6'):\n",
    "#         network.params[key] -= learning_rate * grad[key]\n",
    "    \n",
    "    \n",
    "#     loss = network.loss(x_batch, t_batch)\n",
    "#     train_loss_list.append(loss)\n",
    "    \n",
    "#     if i % iter_per_epoch == 0:\n",
    "#         train_acc = network.accuracy(x_train, t_train)\n",
    "#         network\n",
    "#         test_acc = network.accuracy(x_test, t_test)\n",
    "#         train_acc_list.append(train_acc)\n",
    "#         test_acc_list.append(test_acc)\n",
    "#         print(train_acc, test_acc)\n",
    "\n",
    "# end = time.time();\n",
    "# print(f\"{end - start: .5f} sec\")"
   ]
  },
  {
   "cell_type": "code",
   "execution_count": 14,
   "id": "7dd45ff3",
   "metadata": {},
   "outputs": [
    {
     "data": {
      "image/png": "[encoded data removed]",
      "text/plain": [
       "<Figure size 640x480 with 1 Axes>"
      ]
     },
     "metadata": {},
     "output_type": "display_data"
    }
   ],
   "source": [
    "plt.plot(np.arange(1, 18), train_acc_list)\n",
    "plt.xlabel(\"epoch\")\n",
    "plt.ylabel(\"accuracy\")\n",
    "plt.show()"
   ]
  },
  {
   "cell_type": "code",
   "execution_count": 15,
   "id": "695735fd",
   "metadata": {
    "scrolled": false
   },
   "outputs": [
    {
     "data": {
      "image/png": "[encoded data removed]",
      "text/plain": [
       "<Figure size 640x480 with 1 Axes>"
      ]
     },
     "metadata": {},
     "output_type": "display_data"
    }
   ],
   "source": [
    "plt.plot(np.arange(1, 18), test_acc_list)\n",
    "plt.xlabel(\"epoch\")\n",
    "plt.ylabel(\"accuracy\")\n",
    "plt.show()"
   ]
  }
 ],
 "metadata": {
  "kernelspec": {
   "display_name": "Python 3 (ipykernel)",
   "language": "python",
   "name": "python3"
  },
  "language_info": {
   "codemirror_mode": {
    "name": "ipython",
    "version": 3
   },
   "file_extension": ".py",
   "mimetype": "text/x-python",
   "name": "python",
   "nbconvert_exporter": "python",
   "pygments_lexer": "ipython3",
   "version": "3.10.9"
  }
 },
 "nbformat": 4,
 "nbformat_minor": 5
}
